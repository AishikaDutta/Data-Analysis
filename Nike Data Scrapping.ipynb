{
 "cells": [
  {
   "cell_type": "code",
   "execution_count": 4,
   "id": "9f1c2d2f-671c-4a27-bf55-5c6e0280ed98",
   "metadata": {},
   "outputs": [
    {
     "name": "stdout",
     "output_type": "stream",
     "text": [
      "Successfully saved https://static.nike.com/a/images/w_1920,c_limit/9b16c49c-c250-4046-a72e-e39d1edd9043/best-trail-running-shoes-by-nike.jpg\n",
      "Successfully saved https://static.nike.com/a/images/w_1920,c_limit/44871f6a-5965-4df0-a5f0-0790ec5e6922/the-best-shoes-to-wear-with-jeans.jpg\n",
      "Successfully saved https://static.nike.com/a/images/w_1920,c_limit/22046a5e-2ea7-4afa-b347-23f09a5ca56b/nike%E2%80%99s-best-casual-shoes-for-everyday-wear.jpg\n",
      "Successfully saved https://static.nike.com/a/images/w_1920,c_limit/17e5d49c-8e62-4f06-8150-37c99adf44a7/the-best-shoes-for-standing-all-day.jpg\n",
      "Successfully saved https://static.nike.com/a/images/w_1920,c_limit/86a02be2-d885-49c2-934c-a601fd115da7/the-history-of-the-air-max-97.jpg\n",
      "Successfully saved https://static.nike.com/a/images/w_1920,c_limit/c1374787-c342-4b0c-843c-abd21517d938/the-history-of-the-air-max-95.jpg\n",
      "Successfully saved https://static.nike.com/a/images/w_1920,c_limit/12cf5710-cb86-445b-a017-bdd3eda8e8ee/best-shoes-without-laces-by-nike.jpg\n",
      "Successfully saved https://static.nike.com/a/images/w_1920,c_limit/04209bb9-509c-4bae-adab-bb54e7a69f25/the-history-of-the-air-max-90.jpg\n",
      "Successfully saved https://static.nike.com/a/images/w_1920,c_limit/1b5fe571-1feb-44d5-8ce2-11a478ab18dd/how-to-find-the-best-shoes-for-new-walkers.jpg\n",
      "Successfully saved https://static.nike.com/a/images/w_1920,c_limit/26227143-93cf-4840-8c91-7f5129f91a30/air-max-day-2024-introducing-the-air-max-dn-the-next-generation-of-air-technology.jpg\n",
      "Successfully saved https://static.nike.com/a/images/w_960,c_limit/3732c58b-d0ad-4c3c-898c-c4b90193312b/image.png\n",
      "Finished downloading images.\n"
     ]
    }
   ],
   "source": [
    "import requests\n",
    "from bs4 import BeautifulSoup\n",
    "import os\n",
    "from PIL import Image\n",
    "from io import BytesIO\n",
    "\n",
    "# Step 1: Set up the URL and headers\n",
    "url = 'https://www.nike.com/w/mens-shoes-nik1zy7ok'  # Nike men's shoes page\n",
    "headers = {\n",
    "    'User-Agent': 'Mozilla/5.0 (Windows NT 10.0; Win64; x64) AppleWebKit/537.36 (KHTML, like Gecko) Chrome/91.0.4472.124 Safari/537.36'\n",
    "}\n",
    "\n",
    "# Step 2: Send a request to the website\n",
    "response = requests.get(url, headers=headers)\n",
    "response.raise_for_status()\n",
    "\n",
    "# Step 3: Parse the HTML content\n",
    "soup = BeautifulSoup(response.content, 'html.parser')\n",
    "\n",
    "# Step 4: Find all image tags\n",
    "image_tags = soup.find_all('img')\n",
    "\n",
    "# Step 5: Filter for Nike shoe images, handling cases where 'src' might be missing\n",
    "nike_shoe_images = [img['src'] for img in image_tags if img.has_attr('src') and 'nike' in img['src'].lower()]\n",
    "\n",
    "# Step 6: Create a folder to save the images\n",
    "os.makedirs('nike_shoes', exist_ok=True)\n",
    "\n",
    "# Step 7: Download and save the images\n",
    "for idx, img_url in enumerate(nike_shoe_images):\n",
    "    try:\n",
    "        img_response = requests.get(img_url)\n",
    "        img_response.raise_for_status()\n",
    "        \n",
    "        image = Image.open(BytesIO(img_response.content))\n",
    "        image_format = image.format.lower()\n",
    "        \n",
    "        # Save the image\n",
    "        image.save(f'nike_shoes/nike_shoe_{idx}.{image_format}')\n",
    "        \n",
    "        print(f'Successfully saved {img_url}')\n",
    "    except Exception as e:\n",
    "        print(f'Failed to save {img_url}: {e}')\n",
    "\n",
    "print('Finished downloading images.')\n"
   ]
  },
  {
   "cell_type": "code",
   "execution_count": null,
   "id": "0ba5d7d4-3e30-4754-824d-2f058b8422ff",
   "metadata": {},
   "outputs": [],
   "source": []
  }
 ],
 "metadata": {
  "kernelspec": {
   "display_name": "Python 3 (ipykernel)",
   "language": "python",
   "name": "python3"
  },
  "language_info": {
   "codemirror_mode": {
    "name": "ipython",
    "version": 3
   },
   "file_extension": ".py",
   "mimetype": "text/x-python",
   "name": "python",
   "nbconvert_exporter": "python",
   "pygments_lexer": "ipython3",
   "version": "3.10.11"
  }
 },
 "nbformat": 4,
 "nbformat_minor": 5
}
